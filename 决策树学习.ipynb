{
 "cells": [
  {
   "cell_type": "code",
   "execution_count": null,
   "id": "initial_id",
   "metadata": {
    "ExecuteTime": {
     "end_time": "2024-10-28T02:35:54.457824Z",
     "start_time": "2024-10-28T02:35:54.452328Z"
    },
    "collapsed": true
   },
   "outputs": [],
   "source": []
  },
  {
   "cell_type": "code",
   "execution_count": 1,
   "id": "282d016658fcfbe2",
   "metadata": {
    "ExecuteTime": {
     "end_time": "2024-10-28T02:38:36.914302Z",
     "start_time": "2024-10-28T02:38:36.911485Z"
    },
    "collapsed": false
   },
   "outputs": [],
   "source": [
    "#数据集\n",
    "def createDataSet():\n",
    "    dataSet = [[1,1,'yes'],\n",
    "            [1,1,'yes'],\n",
    "            [1,0,'no'],\n",
    "            [0,1,'no'],\n",
    "            [0,1,'no']]\n",
    "    labels = ['no surfacing ','flippers']\n",
    "    return dataSet,labels"
   ]
  },
  {
   "cell_type": "markdown",
   "id": "138f7a9e",
   "metadata": {},
   "source": [
    "### 信息增益\n",
    "\n",
    "#### 熵\n",
    "$$\n",
    " l(x)= -log_2^{P(x)}\n",
    "$$\n",
    "\n",
    "#### 信息熵\n",
    "\n",
    "我们假设一个样本集合D中第k类样本所占比例为$p ( k ) p(k)p(k)（k=1,2，3…∣ y ∣）$，则D的信息熵可定义为：\n",
    "$$\n",
    "Ent(D)=-\\sum_{k=1}^{\\lvert y \\rvert}(P(k)\\times log_2^{P(k)})\n",
    "$$\n",
    "此为信息熵的计算公式，信息熵越小，数据就越纯。\n",
    "\n",
    "#### 信息增益\n",
    "假定一个数据集D，其中一个属性a有V个可能的取值${ a 1 , a 2 . . . a V a^{1},a^{2}...a^{V} }$，如果选定a为划分属性，那么会产生V个分支结点，其中第v个分支结点包含了D中所有在属性a上取值为$a^{v}$的样本，记$D^{v}$ \n",
    "信息增益计算公式：\n",
    "$$\n",
    "Gain(D,a) = Ent(D) - \\sum_{k=1}^V \\frac {\\lvert D^v \\rvert}{\\lvert D\\rvert} Ent(D^v)\n",
    "$$"
   ]
  }
 ],
 "metadata": {
  "kernelspec": {
   "display_name": "ka-llm",
   "language": "python",
   "name": "python3"
  },
  "language_info": {
   "codemirror_mode": {
    "name": "ipython",
    "version": 3
   },
   "file_extension": ".py",
   "mimetype": "text/x-python",
   "name": "python",
   "nbconvert_exporter": "python",
   "pygments_lexer": "ipython3",
   "version": "3.10.14"
  }
 },
 "nbformat": 4,
 "nbformat_minor": 5
}
