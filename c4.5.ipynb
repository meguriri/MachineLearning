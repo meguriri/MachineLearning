{
 "cells": [
  {
   "cell_type": "code",
   "execution_count": 29,
   "metadata": {},
   "outputs": [],
   "source": [
    "from math import log2,abs"
   ]
  },
  {
   "cell_type": "code",
   "execution_count": 23,
   "metadata": {},
   "outputs": [],
   "source": [
    "def cleanDataset(dataset):\n",
    "    for row in dataset:\n",
    "        for col in row:\n",
    "            if col == '?' or col == '':\n",
    "                print(row)\n",
    "                dataset.remove(row)\n",
    "\n",
    "def createDataset(filename):\n",
    "    with open(filename,'r') as csvfile:\n",
    "        dataset = [row.strip().split(', ') for row in csvfile]\n",
    "        dataset = [[int(i) if i.isdigit() else i for i in row] for row in dataset]\n",
    "        # cleanDataset(dataset)\n",
    "        del(dataset[-1])\n",
    "        labels=['age','workclass','fnlwgt','education','education-num',\n",
    "                'marital-status','occupation',\n",
    "                 'relationship','race','sex','capital-gain','capital-loss','hours-per-week',\n",
    "                 'native-country']\n",
    "        labelType = ['continuous', 'uncontinuous', 'continuous',\n",
    "                      'uncontinuous',\n",
    "                      'continuous', 'uncontinuous',\n",
    "                      'uncontinuous', 'uncontinuous', 'uncontinuous',\n",
    "                      'uncontinuous', 'continuous', 'continuous',\n",
    "                      'continuous', 'uncontinuous']\n",
    "        return dataset,labels,labelType\n",
    "        \n",
    "dataset,labels,labelType = createDataset('adult/adult.data')\n",
    "\n"
   ]
  },
  {
   "cell_type": "code",
   "execution_count": 30,
   "metadata": {},
   "outputs": [
    {
     "data": {
      "text/plain": [
       "0.7963839552022132"
      ]
     },
     "execution_count": 30,
     "metadata": {},
     "output_type": "execute_result"
    }
   ],
   "source": [
    "def calculateEnt(dataset):\n",
    "    classCount  = {}\n",
    "    n = len(dataset)\n",
    "    for vec in dataset:\n",
    "        classification = vec[-1]\n",
    "        if classification not in classCount.keys():\n",
    "            classCount[classification] = 0\n",
    "        classCount[classification] += 1\n",
    "    ent = 0.0\n",
    "    for key in classCount:\n",
    "        p = classCount[key]/n\n",
    "        ent += -1*(p*log2(p))\n",
    "    return ent"
   ]
  },
  {
   "cell_type": "code",
   "execution_count": 33,
   "metadata": {},
   "outputs": [],
   "source": [
    "def splitDataset(dataset,labelIdx,value):\n",
    "    newDataset = []\n",
    "    for vec in dataset:\n",
    "        if vec[labelIdx] == value:\n",
    "            tmp = vec[:labelIdx]\n",
    "            tmp.extend(vec[labelIdx+1:])\n",
    "            newDataset.append(tmp)\n",
    "    return newDataset\n",
    "\n",
    "def splitContinuousDataset(dataset,labelIdx,value):\n",
    "    biggerDataset = []\n",
    "    smallerDataset = []\n",
    "    for vec in dataset:\n",
    "        tmp = vec[:labelIdx]\n",
    "        tmp.extend(vec[labelIdx+1:])\n",
    "        if vec[labelIdx] > value:\n",
    "            biggerDataset.append(tmp)\n",
    "        else:\n",
    "            smallerDataset.append(tmp)\n",
    "    return biggerDataset,smallerDataset"
   ]
  },
  {
   "cell_type": "code",
   "execution_count": 37,
   "metadata": {},
   "outputs": [],
   "source": [
    "def calGainRatioUnContinuous(dataset,labelIdx,ent):\n",
    "    #获取该特征的类别\n",
    "    featureList = [vec[labelIdx] for vec in dataset]\n",
    "    uniqueFeature = set(featureList)\n",
    "    #条件熵\n",
    "    entc = 0.0\n",
    "    #特征分裂信息度量\n",
    "    iv = 0.0\n",
    "    #计算条件熵和特征分裂信息度量\n",
    "    for val in uniqueFeature:\n",
    "        subDataset = splitDataset(dataset,labelIdx,val)\n",
    "        D = len(subDataset) / len(dataset)\n",
    "        iv += -1*(D*log2(D))\n",
    "        entc += D*calculateEnt(subDataset)\n",
    "    gain = ent - entc\n",
    "    #全是一个类别split = 1\n",
    "    if iv == 0 :\n",
    "        iv = 1\n",
    "    #计算gainRatio\n",
    "    gainRadio = gain / iv\n",
    "    return gainRadio\n"
   ]
  },
  {
   "cell_type": "code",
   "execution_count": null,
   "metadata": {},
   "outputs": [],
   "source": [
    "def calGainRatioContinuous(dataset,labelIdx,ent):\n",
    "    #获取该连续特征的各种值\n",
    "    valueList = [vec[labelIdx] for vec in dataset]\n",
    "    valueList = set(featureList)\n",
    "    sortedValue = sorted(valueList)\n",
    "    #获取n-1个分割点\n",
    "    splitPoint = []\n",
    "    for i in range(len(sortedValue)-1):\n",
    "        splitPoint.append((sortedValue[i]+sortedValue[i+1])/2.0)\n",
    "    #寻找最优分割点(信息增益最大)\n",
    "    bestGainRatio = 0.0\n",
    "    bestGain = 0.0\n",
    "    bestSplitPoint = 0.0\n",
    "    for i in range(len(splitPoint)):\n",
    "        entc = 0.0\n",
    "        iv = 0.0\n",
    "        biggerDataset,smallerDataset = splitContinuousDataset(dataset,labelIdx,splitPoint[i])\n",
    "        Db = len(biggerDataset) / len(dataset)\n",
    "        Ds = len(smallerDataset) / len(dataset)\n",
    "        entc += Db*calculateEnt(biggerDataset)\n",
    "        entc += Ds*calculateEnt(smallerDataset)\n",
    "        gain = ent - entc\n",
    "        if gain > bestGain:\n",
    "            bestGain = gain\n",
    "            iv += -1*(Db*log2(Db))\n",
    "            iv += -1*(Ds*log2(Ds))\n",
    "            bestSplitPoint = splitPoint[i]\n",
    "            #修正信息增益\n",
    "            bestGain-=log2(len(valueList)-1)/abs(len(dataset))\n",
    "            #计算最优信息增益率\n",
    "            bestGainRatio = bestGain / iv\n",
    "    return bestGainRatio,bestSplitPoint\n"
   ]
  },
  {
   "cell_type": "code",
   "execution_count": null,
   "metadata": {},
   "outputs": [],
   "source": [
    "def chooseBestSplit(dataset,labels):\n",
    "    "
   ]
  },
  {
   "cell_type": "code",
   "execution_count": 39,
   "metadata": {},
   "outputs": [
    {
     "name": "stdout",
     "output_type": "stream",
     "text": [
      "2\n"
     ]
    }
   ],
   "source": []
  }
 ],
 "metadata": {
  "kernelspec": {
   "display_name": "ka-llm",
   "language": "python",
   "name": "python3"
  },
  "language_info": {
   "codemirror_mode": {
    "name": "ipython",
    "version": 3
   },
   "file_extension": ".py",
   "mimetype": "text/x-python",
   "name": "python",
   "nbconvert_exporter": "python",
   "pygments_lexer": "ipython3",
   "version": "3.10.14"
  }
 },
 "nbformat": 4,
 "nbformat_minor": 2
}
